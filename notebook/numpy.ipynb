{
 "cells": [
  {
   "cell_type": "code",
   "execution_count": 2,
   "id": "2a99c1fc",
   "metadata": {},
   "outputs": [],
   "source": [
    "import numpy as np"
   ]
  },
  {
   "cell_type": "code",
   "execution_count": 9,
   "id": "2e621950",
   "metadata": {},
   "outputs": [
    {
     "name": "stdout",
     "output_type": "stream",
     "text": [
      "[[1. 0. 0.]\n",
      " [0. 1. 0.]\n",
      " [0. 0. 1.]]\n"
     ]
    }
   ],
   "source": [
    "a = np.array([1, 2, 3])\n",
    "b = np.array([[1, 2], [3, 4]])\n",
    "c = np.zeros((2, 3)) \n",
    "d = np.ones((3, 2)) \n",
    "e = np.eye(3) \n",
    "# print(b)\n",
    "print(e)"
   ]
  },
  {
   "cell_type": "code",
   "execution_count": 15,
   "id": "8e36673b",
   "metadata": {},
   "outputs": [
    {
     "name": "stdout",
     "output_type": "stream",
     "text": [
      "The number of vowels is 8\n"
     ]
    }
   ],
   "source": [
    "s = \"Hi, my name is Rishav shrestha\"\n",
    "count = 0\n",
    "vowels = \"aeiouAEIOU\"\n",
    "\n",
    "for i in range(len(s)):\n",
    "    if s[i] in vowels:\n",
    "        count += 1\n",
    "\n",
    "print('The number of vowels is', count)\n"
   ]
  },
  {
   "cell_type": "code",
   "execution_count": 4,
   "id": "fae3959c",
   "metadata": {},
   "outputs": [
    {
     "name": "stdout",
     "output_type": "stream",
     "text": [
      "[0.69900053 0.44866955 0.26371404]\n"
     ]
    }
   ],
   "source": [
    "# random array\n",
    "random_arr = np.random.rand(3)\n",
    "# random_arr=np.array(([2,3],[4,7]))\n",
    "print(random_arr)"
   ]
  },
  {
   "cell_type": "code",
   "execution_count": 14,
   "id": "deff4044",
   "metadata": {},
   "outputs": [
    {
     "name": "stdout",
     "output_type": "stream",
     "text": [
      "Random Integer Array:\n",
      "[46  5 49 70 79]\n"
     ]
    }
   ],
   "source": [
    "# creating 10 random integers\n",
    "import numpy as np\n",
    "\n",
    "# Create an array of 10 random integers between 1 and 100\n",
    "random_array = np.random.randint(1, 101, size=5)\n",
    "\n",
    "print(\"Random Integer Array:\")\n",
    "print(random_array)\n"
   ]
  },
  {
   "cell_type": "code",
   "execution_count": 28,
   "id": "89d3d940",
   "metadata": {},
   "outputs": [
    {
     "name": "stdout",
     "output_type": "stream",
     "text": [
      "[ 1.    3.25  5.5   7.75 10.  ]\n"
     ]
    }
   ],
   "source": [
    "import numpy as np\n",
    "arr = np.linspace(1, 10, 5)\n",
    "print(arr)"
   ]
  },
  {
   "cell_type": "code",
   "execution_count": 34,
   "id": "bad78b38",
   "metadata": {},
   "outputs": [
    {
     "name": "stdout",
     "output_type": "stream",
     "text": [
      "complex128\n",
      "[1.+0.j 2.+0.j 3.+0.j]\n"
     ]
    }
   ],
   "source": [
    "# datatype\n",
    "a = np.array([1, 2, 3], dtype='complex')\n",
    "print(a.dtype)\n",
    "print(a)"
   ]
  },
  {
   "cell_type": "code",
   "execution_count": 37,
   "id": "f2203ce5",
   "metadata": {},
   "outputs": [
    {
     "name": "stdout",
     "output_type": "stream",
     "text": [
      "[1 3 5 7 9]\n"
     ]
    }
   ],
   "source": [
    "a=np.arange(1, 10, 2) \n",
    "print(a)"
   ]
  },
  {
   "cell_type": "code",
   "execution_count": 39,
   "id": "7b571d1a",
   "metadata": {},
   "outputs": [
    {
     "name": "stdout",
     "output_type": "stream",
     "text": [
      "['1' '2' '3' '4' '5']\n"
     ]
    }
   ],
   "source": [
    "# srt to arr\n",
    "s=\"1,2,3,4,5\"\n",
    "arr=np.array(s.split(','),dtype=str)\n",
    "print(arr)"
   ]
  },
  {
   "cell_type": "code",
   "execution_count": 46,
   "id": "51f21049",
   "metadata": {},
   "outputs": [
    {
     "name": "stdout",
     "output_type": "stream",
     "text": [
      "[[1 2]\n",
      " [3 4]]\n",
      "[[1 3]\n",
      " [2 4]]\n",
      "2\n",
      "[[[1]\n",
      "  [2]]\n",
      "\n",
      " [[3]\n",
      "  [4]]]\n"
     ]
    }
   ],
   "source": [
    "# 2d\n",
    "a = np.array([[1, 2], [3, 4]])\n",
    "print(a)\n",
    "print(a.T)\n",
    "print(a.ndim)\n",
    "\n",
    "# 3d\n",
    "d = np.array([[[1], [2]], [[3], [4]]])\n",
    "print(d)"
   ]
  },
  {
   "cell_type": "code",
   "execution_count": 45,
   "id": "4d10f4c9",
   "metadata": {},
   "outputs": [
    {
     "name": "stdout",
     "output_type": "stream",
     "text": [
      "Ram\n",
      "(2,)\n"
     ]
    }
   ],
   "source": [
    "a = np.array([{\"name\": \"Ram\"}, {\"name\": \"Shyam\"}], dtype=object)\n",
    "print(a[0][\"name\"])  \n",
    "print(a.shape)\n"
   ]
  },
  {
   "cell_type": "code",
   "execution_count": 51,
   "id": "80de38b8",
   "metadata": {},
   "outputs": [
    {
     "name": "stdout",
     "output_type": "stream",
     "text": [
      "6\n",
      "9\n"
     ]
    }
   ],
   "source": [
    "# indexing\n",
    "arr = np.array([[1,2,3],[4,5,6]])\n",
    "print(arr[1 ,2])\n",
    "print(arr[0,2]+arr[1,2])"
   ]
  },
  {
   "cell_type": "code",
   "execution_count": 64,
   "id": "5d3c0077",
   "metadata": {},
   "outputs": [
    {
     "name": "stdout",
     "output_type": "stream",
     "text": [
      "[8 6 4]\n"
     ]
    }
   ],
   "source": [
    "# slicing\n",
    "arr=np.array([1,2,3,4,5,6,7,8,9])\n",
    "print(arr[-2:2:-2])"
   ]
  },
  {
   "cell_type": "code",
   "execution_count": 10,
   "id": "4a0a80f1",
   "metadata": {},
   "outputs": [
    {
     "name": "stdout",
     "output_type": "stream",
     "text": [
      "[   2.         45.254834 1024.      ]\n"
     ]
    }
   ],
   "source": [
    "a = np.logspace(  1, 10, num=3, base=2)\n",
    "print(a)"
   ]
  },
  {
   "cell_type": "code",
   "execution_count": null,
   "id": "446dbe40",
   "metadata": {},
   "outputs": [
    {
     "name": "stdout",
     "output_type": "stream",
     "text": [
      "[12 11 58 67 25 83 38 45 69 56]\n",
      "[11 12 25 38 45 56 58 67 69 83]\n"
     ]
    }
   ],
   "source": [
    "# past question\n",
    "s =np.random.randint(1,100,size=10)\n",
    "print(s)\n",
    "r=np.sort(s)\n",
    "print(r)"
   ]
  },
  {
   "cell_type": "code",
   "execution_count": 21,
   "id": "fa827454",
   "metadata": {},
   "outputs": [
    {
     "name": "stdout",
     "output_type": "stream",
     "text": [
      "[[1 5 3]\n",
      " [6 9 7]]\n"
     ]
    }
   ],
   "source": [
    "# sorting\n",
    "arr = np.array([[6,5,7], [1,9,3]])\n",
    "print(np.sort(arr, axis=0))\n"
   ]
  },
  {
   "cell_type": "code",
   "execution_count": null,
   "id": "b049e790",
   "metadata": {},
   "outputs": [
    {
     "name": "stdout",
     "output_type": "stream",
     "text": [
      "[1 2 0]\n",
      "['apple' 'banana' 'banana']\n",
      "[95 85 90]\n"
     ]
    }
   ],
   "source": [
    "import numpy as np\n",
    "names = np.array(['banana', 'apple', 'banana'])\n",
    "marks = np.array([90, 95, 85])\n",
    "\n",
    "# last key is primary: (secondary, primary)\n",
    "indices = np.lexsort((marks, names))\n",
    "print(indices)        # [1 2 0]\n",
    "print(names[indices])\n",
    "print(marks[indices])\n"
   ]
  }
 ],
 "metadata": {
  "kernelspec": {
   "display_name": "Python 3",
   "language": "python",
   "name": "python3"
  },
  "language_info": {
   "codemirror_mode": {
    "name": "ipython",
    "version": 3
   },
   "file_extension": ".py",
   "mimetype": "text/x-python",
   "name": "python",
   "nbconvert_exporter": "python",
   "pygments_lexer": "ipython3",
   "version": "3.13.1"
  }
 },
 "nbformat": 4,
 "nbformat_minor": 5
}
