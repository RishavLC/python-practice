{
 "cells": [
  {
   "cell_type": "code",
   "execution_count": 2,
   "id": "c76a3121",
   "metadata": {},
   "outputs": [],
   "source": [
    "import pandas as pd\n",
    "import numpy as np"
   ]
  },
  {
   "cell_type": "code",
   "execution_count": 3,
   "id": "9140573d",
   "metadata": {},
   "outputs": [
    {
     "name": "stdout",
     "output_type": "stream",
     "text": [
      "0    5\n",
      "1    4\n",
      "2    8\n",
      "3    7\n",
      "dtype: int64\n"
     ]
    }
   ],
   "source": [
    "a=np.array([5,4,8,7])\n",
    "s=pd.Series(a)\n",
    "print(s)"
   ]
  },
  {
   "cell_type": "code",
   "execution_count": 8,
   "id": "6f3d8dc7",
   "metadata": {},
   "outputs": [
    {
     "name": "stdout",
     "output_type": "stream",
     "text": [
      "    Name  Marks\n",
      "0    Ram     85\n",
      "1  Shyam     90\n",
      "2   Hari     88\n",
      "3   Gita     92\n",
      "    Name  Age  Marks\n",
      "0    Ram   25     85\n",
      "1  Shyam   30     90\n"
     ]
    }
   ],
   "source": [
    "import pandas as pd\n",
    "\n",
    "data = {\n",
    "    'Name': ['Ram', 'Shyam', 'Hari', 'Gita'],\n",
    "    'Age': [25, 30, 28, 22],\n",
    "    'Marks': [85, 90, 88, 92]\n",
    "}\n",
    "\n",
    "df = pd.DataFrame(data)\n",
    "print(df[['Name', 'Marks']])\n",
    "print(df[:2]\n",
    ")"
   ]
  },
  {
   "cell_type": "code",
   "execution_count": 12,
   "id": "974dbde5",
   "metadata": {},
   "outputs": [
    {
     "name": "stdout",
     "output_type": "stream",
     "text": [
      "    Name  Age  Marks\n",
      "0    Ram   25     85\n",
      "1  Shyam   30     90\n",
      "2   Gita   22     95\n"
     ]
    }
   ],
   "source": [
    "data = {\n",
    "    'Name': ['Ram', 'Shyam', 'Gita'],\n",
    "    'Age': [25, 30, 22],\n",
    "    'Marks': [85, 90, 95]\n",
    "}\n",
    "\n",
    "df = pd.DataFrame(data)\n",
    "df.to_csv('students.csv', index=False)\n",
    "\n",
    "\n",
    "# data = pd.read_csv('students.csv')\n",
    "# df=pd.DataFrame(data)\n",
    "s=df[(df['Age']>=20) & (df['Age']<=30)]\n",
    "print(s)\n"
   ]
  }
 ],
 "metadata": {
  "kernelspec": {
   "display_name": "Python 3",
   "language": "python",
   "name": "python3"
  },
  "language_info": {
   "codemirror_mode": {
    "name": "ipython",
    "version": 3
   },
   "file_extension": ".py",
   "mimetype": "text/x-python",
   "name": "python",
   "nbconvert_exporter": "python",
   "pygments_lexer": "ipython3",
   "version": "3.13.1"
  }
 },
 "nbformat": 4,
 "nbformat_minor": 5
}
